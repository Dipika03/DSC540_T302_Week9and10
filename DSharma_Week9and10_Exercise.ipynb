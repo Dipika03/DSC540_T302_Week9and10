{
 "cells": [
  {
   "cell_type": "code",
   "execution_count": 1,
   "id": "030d21cc-273f-467e-869e-70b84a24bab9",
   "metadata": {},
   "outputs": [],
   "source": [
    "# Name Dipika Sharma\n",
    "# DSC 540 T302 Data Preparation\n",
    "# Week 9 and 10"
   ]
  },
  {
   "cell_type": "markdown",
   "id": "1060ac33-4b3a-4526-96d0-4309ef620b0f",
   "metadata": {},
   "source": [
    "## Activity 9"
   ]
  },
  {
   "cell_type": "markdown",
   "id": "38e47ae7-921b-4cc6-a987-cc0edb148059",
   "metadata": {},
   "source": [
    "### 1. Import the necessary libraries, including regex and beautifulsoup."
   ]
  },
  {
   "cell_type": "code",
   "execution_count": 71,
   "id": "fd85a40b-083a-4a16-9fab-aaf41a09accb",
   "metadata": {},
   "outputs": [],
   "source": [
    "import urllib.request, urllib.parse, urllib.error\n",
    "import requests\n",
    "from bs4 import BeautifulSoup\n",
    "import ssl\n",
    "import re"
   ]
  },
  {
   "cell_type": "markdown",
   "id": "c37b426f-cb60-4ca1-a5ad-76d0828231e6",
   "metadata": {},
   "source": [
    "### 2. Check the SSL certificate."
   ]
  },
  {
   "cell_type": "code",
   "execution_count": 122,
   "id": "464d78d5-9fed-4921-85ef-baaf09397e89",
   "metadata": {},
   "outputs": [],
   "source": [
    "# Below code will help us in ignoring the SSL certificate errors.\n",
    "\n",
    "context_ = ssl.create_default_context()\n",
    "context_.check_hostname = False\n",
    "context_.verify_mode = ssl.CERT_NONE"
   ]
  },
  {
   "cell_type": "markdown",
   "id": "b0d3a569-d709-40e4-805b-2612977e1bbf",
   "metadata": {},
   "source": [
    "### 3. Read the HTML from the URL"
   ]
  },
  {
   "cell_type": "code",
   "execution_count": 123,
   "id": "9af88e50-5fdf-4db1-aedf-e98d8054654d",
   "metadata": {},
   "outputs": [],
   "source": [
    "# Using BeautifulSoup to read HTML from the url.\n",
    "\n",
    "url = 'https://www.gutenberg.org/browse/scores/top'\n",
    "\n",
    "# Make a GET request to fetch the raw HTML content\n",
    "response = requests.get(url)"
   ]
  },
  {
   "cell_type": "markdown",
   "id": "a3dfcf17-f3a4-49a9-9e87-22709d02a943",
   "metadata": {},
   "source": [
    "### 4. Write a small function to check the status of the web request."
   ]
  },
  {
   "cell_type": "code",
   "execution_count": 124,
   "id": "41a4daa7-952c-4ca2-be9a-102817c21763",
   "metadata": {},
   "outputs": [],
   "source": [
    "# Lets define a function to check the status of web request.\n",
    "# The HTTP 200 means success status response code indicates that the request has succeeded.\n",
    "\n",
    "def status_check(r):\n",
    "    if r.status_code==200:\n",
    "        print(\"Success!\")\n",
    "        return 1\n",
    "    else:\n",
    "        print(\"Failed!\")\n",
    "        return -1"
   ]
  },
  {
   "cell_type": "code",
   "execution_count": 125,
   "id": "8103fcc3-28f2-4c15-8375-bccde9981cbb",
   "metadata": {},
   "outputs": [
    {
     "name": "stdout",
     "output_type": "stream",
     "text": [
      "Success!\n"
     ]
    },
    {
     "data": {
      "text/plain": [
       "1"
      ]
     },
     "execution_count": 125,
     "metadata": {},
     "output_type": "execute_result"
    }
   ],
   "source": [
    "# calling the function to check the status of web request.\n",
    "\n",
    "status_check(response)"
   ]
  },
  {
   "cell_type": "markdown",
   "id": "21d05891-7ea7-4a35-a4cc-58e7675cb543",
   "metadata": {},
   "source": [
    "### 5. Decode the response and pass this on to BeautifulSoup for HTML parsing."
   ]
  },
  {
   "cell_type": "code",
   "execution_count": 126,
   "id": "504b4953-f9d6-4f3a-b2d3-a166feba8d11",
   "metadata": {},
   "outputs": [],
   "source": [
    "# Using decode encoding method to convert the bytecode content into the string.\n",
    "\n",
    "contents = response.content.decode(response.encoding)"
   ]
  },
  {
   "cell_type": "code",
   "execution_count": 128,
   "id": "8a0f2a18-5ab4-410c-ad56-90ad54eb1fcb",
   "metadata": {},
   "outputs": [],
   "source": [
    "soup = BeautifulSoup(contents, 'html.parser')"
   ]
  },
  {
   "cell_type": "markdown",
   "id": "44709213-567b-478b-bd83-129a46297fb6",
   "metadata": {},
   "source": [
    "### 6. Find all the href tags and store them in the list of links. Check what the list looks like – print the first 30 elements."
   ]
  },
  {
   "cell_type": "code",
   "execution_count": 130,
   "id": "276dd24b-e5f6-4dc2-bc41-60ead72e25a4",
   "metadata": {},
   "outputs": [],
   "source": [
    "# lets declare the empty list to store all the http links in HTML page.\n",
    "\n",
    "http_links=[]"
   ]
  },
  {
   "cell_type": "code",
   "execution_count": 132,
   "id": "b1797b1a-7e83-4d56-b0c7-cdef53f595bc",
   "metadata": {},
   "outputs": [],
   "source": [
    "# Lets find out all the http links using the loop and store them in the list declare above.\n",
    "\n",
    "for link in soup.find_all('a'):   # finding anchor tag that defines the hyperlink in HTML page.\n",
    "    http_links.append(link.get('href')) # storing the links in declared list"
   ]
  },
  {
   "cell_type": "code",
   "execution_count": 133,
   "id": "0fb20c80-348e-4b4d-9287-f1e5fd9922d3",
   "metadata": {},
   "outputs": [
    {
     "data": {
      "text/plain": [
       "['/',\n",
       " '/about/',\n",
       " '/about/',\n",
       " '/policy/collection_development.html',\n",
       " '/about/contact_information.html',\n",
       " '/about/background/',\n",
       " '/policy/permission.html',\n",
       " '/policy/privacy_policy.html',\n",
       " '/policy/terms_of_use.html',\n",
       " '/ebooks/',\n",
       " '/ebooks/',\n",
       " '/ebooks/bookshelf/',\n",
       " '/browse/scores/top',\n",
       " '/ebooks/offline_catalogs.html',\n",
       " '/help/',\n",
       " '/help/',\n",
       " '/help/copyright.html',\n",
       " '/help/errata.html',\n",
       " '/help/file_formats.html',\n",
       " '/help/faq.html']"
      ]
     },
     "execution_count": 133,
     "metadata": {},
     "output_type": "execute_result"
    }
   ],
   "source": [
    "# let Get all the Items Before a 20th Position of list\n",
    "http_links[:20]"
   ]
  },
  {
   "cell_type": "markdown",
   "id": "f5d031b6-7230-49b4-a8e4-0e8a2f63da1d",
   "metadata": {},
   "source": [
    "### 7. Use a regular expression to find the numeric digits in these links. These are the file numbers for the top 100 eBooks.\n",
    "### Initialize the empty list to hold the file numbers over an appropriate range "
   ]
  },
  {
   "cell_type": "code",
   "execution_count": 134,
   "id": "b82133f7-15c1-4ed0-a4fc-58c7613be0fa",
   "metadata": {},
   "outputs": [],
   "source": [
    "# Lets declare another empty list to store the file numbers.\n",
    "\n",
    "file_num=[]"
   ]
  },
  {
   "cell_type": "markdown",
   "id": "b678f736-29f0-4ebc-a8d0-e25a46203f29",
   "metadata": {
    "tags": []
   },
   "source": [
    "### 8. Use regex to find the numeric digits in the link href string. Use the findall method."
   ]
  },
  {
   "cell_type": "code",
   "execution_count": 135,
   "id": "29171471-e044-488c-bf0e-ca88d3fe38de",
   "metadata": {},
   "outputs": [],
   "source": [
    "# using loop to go through link list which have top 100 books number from 10 to 110.\n",
    "# find the numeric digits in the links and store all digits in declared empty list.\n",
    "\n",
    "for i in range(19,119):\n",
    "    link=lst_links[i]\n",
    "    link=link.strip()\n",
    "    # Using findall to find digits 0-9 in the links\n",
    "    n=re.findall('[0-9]+',link)\n",
    "    if len(n)==1:\n",
    "        # storing all the numeric digits in list\n",
    "        file_num.append(int(n[0]))"
   ]
  },
  {
   "cell_type": "code",
   "execution_count": 136,
   "id": "29355a02-0f3f-4353-88cc-b760d3f7b1b2",
   "metadata": {},
   "outputs": [
    {
     "name": "stdout",
     "output_type": "stream",
     "text": [
      "\n",
      "Below are all the file numbers we found in top 100 ebooks on Gutenberg\n",
      "----------------------------------------------------------------------\n",
      "[1, 1, 7, 7, 30, 30, 33044, 7471, 1342, 84, 11, 64317, 20228, 1661, 345, 174, 2701, 98, 68059, 35899, 68060, 844, 2542, 68063, 76, 1952, 68058, 1400, 1080, 43, 1184, 1260, 32449, 74, 68062, 2600, 46, 5740, 4300, 68064, 5200, 1232, 2591, 2554, 219, 6130, 25344, 730, 68056, 55, 45, 35, 2852, 120, 47629, 1250, 1727, 514, 135, 30254, 1399, 2814, 768, 205, 408, 996, 3207, 58585, 158, 1497, 28054, 13701, 4363, 829, 2500, 3825, 160, 68054, 244, 16, 36, 27827, 67098, 161, 1513, 215, 68053, 1998, 7370, 10676, 4980, 105]\n"
     ]
    }
   ],
   "source": [
    "# Lets print the list to see all the numeric digits we found in links list from 10 to 110.\n",
    "\n",
    "print (\"\\nBelow are all the file numbers we found in top 100 ebooks on Gutenberg\\n\"+\"-\"*70)\n",
    "print(file_num)"
   ]
  },
  {
   "cell_type": "markdown",
   "id": "f2887dae-c70a-4759-979a-df1a0caa65f9",
   "metadata": {},
   "source": [
    "### 9. What does the soup object's text look like? Use the .text method and print only the first 2,000 characters (do not print the whole thing, as it is too long)."
   ]
  },
  {
   "cell_type": "code",
   "execution_count": 137,
   "id": "fb478c3f-a00b-4971-aa7b-b22f8c6ad1e3",
   "metadata": {},
   "outputs": [
    {
     "name": "stdout",
     "output_type": "stream",
     "text": [
      "\n",
      "\n",
      "\n",
      "\n",
      "Top 100 | Project Gutenberg\n",
      "\n",
      "\n",
      "\n",
      "\n",
      "\n",
      "\n",
      "\n",
      "\n",
      "\n",
      "\n",
      "\n",
      "\n",
      "\n",
      "\n",
      "\n",
      "\n",
      "\n",
      "\n",
      "\n",
      "\n",
      "\n",
      "\n",
      "\n",
      "\n",
      "\n",
      "\n",
      "\n",
      "Menu▾\n",
      "\n",
      "\n",
      "\n",
      "About\n",
      "          ▾\n",
      "\n",
      "▾\n",
      "\n",
      "\n",
      "About Project Gutenberg\n",
      "Collection Development\n",
      "Contact Us\n",
      "History & Philosophy\n",
      "Permissions & License\n",
      "Privacy Policy\n",
      "Terms of Use\n",
      "\n",
      "\n",
      "\n",
      "Search and Browse\n",
      "      \t  ▾\n",
      "\n",
      "▾\n",
      "\n",
      "\n",
      "Book Search\n",
      "Bookshelves\n",
      "Frequently Downloaded\n",
      "Offline Catalogs\n",
      "\n",
      "\n",
      "\n",
      "Help\n",
      "          ▾\n",
      "\n",
      "▾\n",
      "\n",
      "\n",
      "All help topics →\n",
      "Copyright Procedures\n",
      "Errata, Fixes and Bug Reports\n",
      "File Formats\n",
      "Frequently Asked Questions\n",
      "Policies →\n",
      "Public Domain eBook Submission\n",
      "Submitting Your Own Work\n",
      "Tablets, Phones and eReaders\n",
      "The Attic →\n",
      "\n",
      "\n",
      "Donate\n",
      "\n",
      "\n",
      "\n",
      "\n",
      "\n",
      "\n",
      "\n",
      "\n",
      "\n",
      "\n",
      "Donation\n",
      "\n",
      "\n",
      "\n",
      "\n",
      "\n",
      "\n",
      "\n",
      "Frequently Viewed or Downloaded\n",
      "These listings are based on the number of times each eBook gets downloaded.\n",
      "      Multiple downloads from the same Internet address on the same day count as one download, and addresses that download more than 100 eBooks in a day are considered robots and are not counted.\n",
      "\n",
      "Downloaded Books\n",
      "2022-05-20145781\n",
      "last 7 days1059696\n",
      "last 30 days4923681\n",
      "\n",
      "\n",
      "\n",
      "Top 100 EBooks yesterday\n",
      "Top 100 Authors yesterday\n",
      "Top 100 EBooks last 7 days\n",
      "Top 100 Authors last 7 days\n",
      "Top 100 EBooks last 30 days\n",
      "Top 100 Authors last 30 days\n",
      "\n",
      "\n",
      "Top 100 EBooks yesterday\n",
      "\n",
      "Pride and Prejudice by Jane Austen (1492)\n",
      "Frankenstein; Or, The Modern Prometheus by Mary Wollstonecraft Shelley (1259)\n",
      "Alice's Adventures in Wonderland by Lewis Carroll (806)\n",
      "The Adventures of Sherlock Holmes by Arthur Conan Doyle (779)\n",
      "Noli Me Tangere by José Rizal (638)\n",
      "A Tale of Two Cities by Charles Dickens (631)\n",
      "The Great Gatsby by F. Scott  Fitzgerald (626)\n",
      "Dracula by Bram Stoker (622)\n",
      "Stories from the Iliad: Told to the Children Series by Jean Lang (569)\n",
      "The Picture of Dorian Gray by Oscar Wilde (556)\n",
      "Moby Dick; Or, The Whale by Herman Melville (536)\n",
      "The Yellow Wallpaper by Charlotte Perkins Gilman (479)\n",
      "Great Expectations by Charles Dickens (475)\n",
      "Adventures of Huckleberry Finn by Mark Twain (469)\n",
      "The Strange Case of Dr. Jekyll and Mr. Hyde by Robert Louis Stevenson (433)\n",
      "A Modest Proposal by Jonathan Swift (421\n"
     ]
    }
   ],
   "source": [
    "# Lets print the first 2000 characters from soup object.\n",
    "print(soup.text[:2000])"
   ]
  },
  {
   "cell_type": "markdown",
   "id": "3c5d2625-8366-4e85-9dd9-cb3ea612e319",
   "metadata": {},
   "source": [
    "### 10. Search in the extracted text (using a regular expression) from the soup object to find the names of the top 100 eBooks (yesterday's ranking)."
   ]
  },
  {
   "cell_type": "code",
   "execution_count": 141,
   "id": "310e2d41-00e5-48dc-902e-693cb0374a4b",
   "metadata": {},
   "outputs": [],
   "source": [
    "# lets declare the empty list to store the string .\n",
    "\n",
    "ebook_string=[]"
   ]
  },
  {
   "cell_type": "markdown",
   "id": "217a202e-76b4-435f-aa01-c62c5b973b0f",
   "metadata": {},
   "source": [
    "### 11. Create a starting index. It should point at the text Top 100 Ebooks yesterday. Use the splitlines method of soup.text. It splits the lines of text of the soup object."
   ]
  },
  {
   "cell_type": "code",
   "execution_count": 142,
   "id": "895857f4-b32a-4fdf-881c-3df58b2953c6",
   "metadata": {},
   "outputs": [],
   "source": [
    "index=soup.text.splitlines().index('Top 100 EBooks yesterday')"
   ]
  },
  {
   "cell_type": "markdown",
   "id": "98e479d4-b767-46f6-8a75-580fa2f7aee5",
   "metadata": {},
   "source": [
    "### 12. Loop 1-100 to add the strings of the next 100 lines to this temporary list. Hint: use the splitlines method."
   ]
  },
  {
   "cell_type": "code",
   "execution_count": 147,
   "id": "950caa35-1238-40f3-bd2f-f952a2c63c37",
   "metadata": {},
   "outputs": [],
   "source": [
    "# Using loop to store the string of next 100 lines.\n",
    "for i in range(100):\n",
    "    ebook_string.append(soup.text.splitlines()[index+2+i])"
   ]
  },
  {
   "cell_type": "markdown",
   "id": "09a7e4f7-026a-4557-8d51-f6d4b2bb2e55",
   "metadata": {},
   "source": [
    "### 13. Use a regular expression to extract only text from the name strings and append it to an empty list. Use match and span to find the indices and use them."
   ]
  },
  {
   "cell_type": "code",
   "execution_count": 150,
   "id": "69b3b97a-d6fa-4f8f-a267-84cf37f4b436",
   "metadata": {},
   "outputs": [],
   "source": [
    "# lets declare the empty list to store the names of top 100 books. \n",
    "book_names=[]\n",
    "\n",
    "# Using loop to go through each string and find book names and store in declared empty list.\n",
    "for i in range(100):\n",
    "    id1,id2=re.match('^[a-zA-Z ]*',ebook_string[i]).span()\n",
    "    book_names.append(lst_titles_temp[i][id1:id2])"
   ]
  },
  {
   "cell_type": "code",
   "execution_count": 151,
   "id": "26c045d6-ce39-4f6d-85e2-d9351c3842e1",
   "metadata": {},
   "outputs": [
    {
     "name": "stdout",
     "output_type": "stream",
     "text": [
      "Top \n",
      "Top \n",
      "Top \n",
      "Top \n",
      "\n",
      "\n",
      "Top \n",
      "\n",
      "Birds from North Borneo by Max C. T\n",
      "The Man with\n",
      "Pride\n",
      "Frankenstein; Or, The Modern Prometheus by Mary Wollston\n",
      "Alice's Adventures in \n",
      "The Great Gatsby by F. Scott  Fitzgerald\n",
      "Noli Me Tangere by Jo\n",
      "The Adventures of Sherl\n",
      "Dracula by Bram Stoker\n",
      "The Picture of Dorian Gray by Oscar Wilde \n",
      "Moby Dick\n",
      "A Tale of Two Cities by Charles Dickens (638)\n",
      "The man among the monkeys: or, Ninety \n",
      "The Philippines a Century Hence by José Rizal\n",
      "The political novel by\n",
      "The Importance of Being Earnest: A T\n",
      "A Doll's House : a play by H\n",
      "The Red Vineyard by B\n",
      "Adventures of Huckleberry Finn b\n",
      "The Yellow Wallpaper by Charlot\n",
      "Dixie: A monthly magazine,\n",
      "Great \n",
      "A Modest Proposal by Jonathan\n",
      "The Str\n",
      "The Count\n",
      "Jane Eyre: An Autobiography by Char\n",
      "Japanese Girls and Women by Alice \n",
      "The Adventures of Tom S\n",
      "The play that won by Ralph Henry Barbour (373)\n",
      "War and Peace by graf Leo Tolstoy (367)\n",
      "A Christmas Carol in\n",
      "Tractatus Logico-Philosophicus by Ludwig W\n",
      "Ulysses by James\n",
      "Roman politics by Fra\n",
      "Meta\n",
      "The Pr\n",
      "Grimms' Fairy Tales by Jacob Grimm and Wil\n",
      "Crime and Punishment by Fyodor Dost\n",
      "Heart of Darkness by Jose\n",
      "The Iliad by Homer (305)\n",
      "The Scarlet Letter by Nathaniel\n",
      "Oliver Twist by Cha\n",
      "Thoughts upon the African Slave Trade by M.R\n",
      "The Wonderful Wizard of Oz by L. Frank  Baum (274)\n",
      "Anne of Green Gables by L. M.  M\n",
      "The Time Machine by H. G.\n",
      "The Hound of the Baskervilles by Arthur Conan Doyle (259)\n",
      "Treasure Island by \n",
      "Ang \"Filibusterismo\" (Karugtóng \n",
      "Anthem by Ayn Rand (255)\n",
      "The Odys\n",
      "Little Women by Louis\n",
      "Les Misérables by Victor Hugo (245\n",
      "The Romance of Lust\n",
      "Anna Karenina by graf Leo\n",
      "Dubline\n",
      "Wuthering Heights by Emily Br\n",
      "Walden, and On The Duty Of\n",
      "The Souls of Black Folk by W\n",
      "Don Quixote by Migue\n",
      "Leviathan by Thomas Hobbes (218)\n",
      "The Pr\n",
      "Emma by Jane Austen (217)\n",
      "The Republic by Plato (211)\n",
      "The Brothers Karamazov by Fyodor Do\n",
      "The Philippine Islands, 14\n",
      "Beyond G\n",
      "Gulliver's Travels into Several Re\n",
      "Siddhartha by \n",
      "Pygmalion by Bernard Shaw (198)\n",
      "The Awakening, and Selected Short Stories b\n",
      "Columbus and \n",
      "A Study in Scarlet by Arthur Conan Do\n",
      "Peter Pan by J. M.  Barrie (196)\n",
      "The War of the Worlds by H. G\n",
      "The Ka\n",
      "Winnie-the-Pooh by A. A. \n",
      "Sense and Sensibility by Jan\n",
      "Romeo and Juliet by William Shakespeare (185)\n",
      "The Call of the Wild by Jack London (182\n",
      "The Frugal Life: A Par\n",
      "Thus Spake Zarathustra: A Book for A\n",
      "Second Treatise of Government by John\n",
      "The Reign of Greed by José Rizal (170)\n",
      "Old Gra\n",
      "Persuasion by Jane Austen (16\n",
      "Beowulf: An Anglo-Saxon Epic Poem (165)\n",
      "The K\n",
      "The Secret Garden by Frances Hodgson Burnett (1\n",
      "Around the World in Eighty Days by Jules Vern\n",
      "The Legend of Sleepy Hollow by Washington Irving \n",
      "Cookery and Dining in Imperial Rome by Apicius (159)\n"
     ]
    }
   ],
   "source": [
    "# Lets print the books name of 100 top books\n",
    "for l in book_names:\n",
    "    print(l)"
   ]
  },
  {
   "cell_type": "markdown",
   "id": "1418f532-0ef9-49c2-ae49-d4b4f640e560",
   "metadata": {},
   "source": [
    "## Activity 10"
   ]
  },
  {
   "cell_type": "markdown",
   "id": "4f4798ef-409b-4f52-8fd6-a9b996f0f92f",
   "metadata": {},
   "source": [
    "### 1. Import urllib.request, urllib.parse, urllib.error, and json."
   ]
  },
  {
   "cell_type": "code",
   "execution_count": 176,
   "id": "e1fb3623-875d-481d-aa70-e8f014a87a68",
   "metadata": {
    "tags": []
   },
   "outputs": [],
   "source": [
    "import urllib.request, urllib.parse, urllib.error\n",
    "import json"
   ]
  },
  {
   "cell_type": "markdown",
   "id": "34c738f8-4dc6-40fa-837c-7f0759f63013",
   "metadata": {},
   "source": [
    "### 2. Load the secret API key (you have to get one from the OMDb website and use that; it has a daily limit of 1,000) from a JSON file stored in the same folder in a variable, by using json.loads."
   ]
  },
  {
   "cell_type": "markdown",
   "id": "a88cab0b-8b56-4543-878b-3b781e115af4",
   "metadata": {},
   "source": [
    "Obtain a key and store it in JSON as APIkeys.json.\n",
    "Open the APIkeys.json file."
   ]
  },
  {
   "cell_type": "code",
   "execution_count": 177,
   "id": "d327fa22-50bc-4853-9d5d-f0d75a248a22",
   "metadata": {},
   "outputs": [],
   "source": [
    "# Stored the key in APIkeys.json file.\n",
    "\n",
    "with open('APIkeys.json') as f:\n",
    "    key = json.load(f)\n",
    "    secretapikey = key['key']"
   ]
  },
  {
   "cell_type": "markdown",
   "id": "521ff0a4-a396-47c4-b13a-1bb7d53e48d1",
   "metadata": {},
   "source": [
    "### 3. Assign the OMDb portal (http://www.omdbapi.com/?) as a string to a variable. Create a variable called apikey with the last portion of the URL (&apikey=secretapikey), where secretapikey is your own API key."
   ]
  },
  {
   "cell_type": "code",
   "execution_count": 178,
   "id": "4a03afa4-cca7-4eb7-9953-db871583cc73",
   "metadata": {},
   "outputs": [],
   "source": [
    "url_ = 'http://www.omdbapi.com/?'\n",
    "apikey = '&apikey='+secretapikey"
   ]
  },
  {
   "cell_type": "markdown",
   "id": "ef797d5c-f8d9-476f-916d-4bd643515564",
   "metadata": {},
   "source": [
    "### 4. Write a utility function called print_json to print the movie data from a JSON file (which we will get from the portal)."
   ]
  },
  {
   "cell_type": "code",
   "execution_count": 179,
   "id": "a99b9901-6eef-4e6c-b039-1e7e5f94e40d",
   "metadata": {},
   "outputs": [],
   "source": [
    "# defining function to display data related to movie.\n",
    "def print_json(json_data):\n",
    "    list_keys=['Title', 'Year', 'Rated', 'Released', 'Runtime', 'Genre', 'Director', 'Writer', \n",
    "               'Actors', 'Plot', 'Language', 'Country', 'Awards', 'Ratings', \n",
    "               'Metascore', 'imdbRating', 'imdbVotes', 'imdbID']\n",
    "    print(\"-\"*50)\n",
    "    for k in list_keys:\n",
    "        if k in list(json_data.keys()):\n",
    "            print(f\"{k}: {json_data[k]}\")\n",
    "    print(\"-\"*50)"
   ]
  },
  {
   "cell_type": "markdown",
   "id": "ddfaad91-6f5e-4450-8e2f-68c79852e959",
   "metadata": {},
   "source": [
    "### 5. Write a utility function to download a poster of the movie based on the information from the JSON dataset and save it in your local folder. Use the os module. The poster data is stored in the JSON key Poster. Use the Python command to open a file and write the poster data. Close the file after you're done. This function will save the poster data as an image file."
   ]
  },
  {
   "cell_type": "code",
   "execution_count": 190,
   "id": "1f8845c9-82a2-42ad-ab21-bb5a67979498",
   "metadata": {},
   "outputs": [],
   "source": [
    "# defining the function to store the movie poster as an image file using os module.\n",
    "\n",
    "def save_poster(json_data):\n",
    "    import os\n",
    "    title = json_data['Title']\n",
    "    poster_url = json_data['Poster']\n",
    "    \n",
    "    # Split function will give us the poster url last string as file extension.\n",
    "    poster_file_extension=poster_url.split('.')[-1]\n",
    "    \n",
    "    # Using urlopen and read to open and read the image file from web.\n",
    "    poster_data = urllib.request.urlopen(poster_url).read()\n",
    "       \n",
    "    savelocation=os.getcwd()+'\\\\'+'Posters'+'\\\\'\n",
    "    \n",
    "    # Below code will check if directory path exist or not.\n",
    "    if not os.path.isdir(savelocation):\n",
    "        os.mkdir(savelocation)\n",
    "    \n",
    "    filename=savelocation+str(title)+'.'+poster_file_extension\n",
    "    f=open(filename,'wb')\n",
    "    f.write(poster_data) # write the poster data\n",
    "    f.close() # close the file"
   ]
  },
  {
   "cell_type": "markdown",
   "id": "68fe9c82-a553-4ebf-a00f-cf2dcfb9d59a",
   "metadata": {},
   "source": [
    "### 6. Write a utility function called search_movie to search for a movie by its name, print the downloaded JSON data, and save the movie poster in the local folder. Use a try-except loop for this. Use the previously created serviceurl and apikey variables. You have to pass on a dictionary with a key, t, and the movie name as the corresponding value to the urllib.parse.urlencode() function and then add the serviceurl and apikey to the output of the function to construct the full URL. This URL will be used to access the data. The JSON data has a key called Response. If it is True, that means the read was successful. Check this before processing the data. If it's not successful, then print the JSON key Error, which will contain the appropriate error message returned by the movie database."
   ]
  },
  {
   "cell_type": "code",
   "execution_count": 191,
   "id": "ce590d68-4c3a-4d57-99ed-a749fe56bd0c",
   "metadata": {},
   "outputs": [],
   "source": [
    "# Defining function to see if we can make succesful connection to the web portal, If connection is not successful then print the error message.\n",
    "\n",
    "def search_movie(title):\n",
    "    try:\n",
    "        url = url_ + urllib.parse.urlencode({'t': str(title)})+apikey\n",
    "        print(f'Retrieving the data of \"{title}\" now... ')\n",
    "        print(url)\n",
    "        uh = urllib.request.urlopen(url)\n",
    "        data = uh.read()\n",
    "        json_data=json.loads(data)\n",
    "        \n",
    "        if json_data['Response']=='True':\n",
    "            print_json(json_data)\n",
    "            # Check if user want to download the movie poster.\n",
    "            if json_data['Poster']!='N/A':\n",
    "                save_poster(json_data)\n",
    "        else:\n",
    "            print(\"Error encountered: \",json_data['Error'])\n",
    "    \n",
    "    except urllib.error.URLError as e:\n",
    "        print(f\"ERROR: {e.reason}\")"
   ]
  },
  {
   "cell_type": "markdown",
   "id": "4e363982-e754-4c47-a263-d702473260fc",
   "metadata": {},
   "source": [
    "### 7. Test the search_movie function by entering Titanic."
   ]
  },
  {
   "cell_type": "code",
   "execution_count": 194,
   "id": "49f6c0ce-2464-445d-bace-d236332e6795",
   "metadata": {},
   "outputs": [
    {
     "name": "stdout",
     "output_type": "stream",
     "text": [
      "Retrieving the data of \"Titanic\" now... \n",
      "http://www.omdbapi.com/?t=Titanic&apikey=f85a48b6\n",
      "--------------------------------------------------\n",
      "Title: Titanic\n",
      "Year: 1997\n",
      "Rated: PG-13\n",
      "Released: 19 Dec 1997\n",
      "Runtime: 194 min\n",
      "Genre: Drama, Romance\n",
      "Director: James Cameron\n",
      "Writer: James Cameron\n",
      "Actors: Leonardo DiCaprio, Kate Winslet, Billy Zane\n",
      "Plot: A seventeen-year-old aristocrat falls in love with a kind but poor artist aboard the luxurious, ill-fated R.M.S. Titanic.\n",
      "Language: English, Swedish, Italian, French\n",
      "Country: United States, Mexico\n",
      "Awards: Won 11 Oscars. 125 wins & 83 nominations total\n",
      "Ratings: [{'Source': 'Internet Movie Database', 'Value': '7.9/10'}, {'Source': 'Rotten Tomatoes', 'Value': '87%'}, {'Source': 'Metacritic', 'Value': '75/100'}]\n",
      "Metascore: 75\n",
      "imdbRating: 7.9\n",
      "imdbVotes: 1,131,404\n",
      "imdbID: tt0120338\n",
      "--------------------------------------------------\n"
     ]
    }
   ],
   "source": [
    "# calling movie search function to look Titanic. The poster folder will be created in same drive with poster.jpg file.\n",
    "\n",
    "search_movie(\"Titanic\")"
   ]
  },
  {
   "cell_type": "markdown",
   "id": "0c27fc1d-810b-4f3e-b9f0-12141b18e75f",
   "metadata": {},
   "source": [
    "### 8. Test the search_movie function by entering \"Random_error\" (obviously, this will not be found, and you should be able to check whether your error catching code is working properly)."
   ]
  },
  {
   "cell_type": "code",
   "execution_count": 193,
   "id": "b772da3a-a760-4674-b56f-88c65af3a547",
   "metadata": {},
   "outputs": [
    {
     "name": "stdout",
     "output_type": "stream",
     "text": [
      "Retrieving the data of \"Random_error\" now... \n",
      "http://www.omdbapi.com/?t=Random_error&apikey=f85a48b6\n",
      "Error encountered:  Movie not found!\n"
     ]
    }
   ],
   "source": [
    "# calling movie search function for \"Random_error\"\n",
    "\n",
    "search_movie(\"Random_error\")"
   ]
  },
  {
   "cell_type": "markdown",
   "id": "16fb10fe-db71-4e5b-bf17-90e127d0922a",
   "metadata": {},
   "source": [
    "As we can see since the movie name is not valid it is showing \"Movie not found\""
   ]
  },
  {
   "cell_type": "markdown",
   "id": "dfacf669-ffb0-4e0d-aebd-2bd70b97a620",
   "metadata": {},
   "source": [
    "## Exercise 3 - Connect to the Twitter API "
   ]
  },
  {
   "cell_type": "code",
   "execution_count": 75,
   "id": "71d15c34-44a6-483b-96cb-d8b55f064ff1",
   "metadata": {
    "tags": []
   },
   "outputs": [
    {
     "name": "stdout",
     "output_type": "stream",
     "text": [
      "Collecting tweepy\n",
      "  Downloading tweepy-4.9.0-py3-none-any.whl (77 kB)\n",
      "\u001b[K     |████████████████████████████████| 77 kB 3.2 MB/s eta 0:00:01\n",
      "\u001b[?25hCollecting oauthlib<4,>=3.2.0\n",
      "  Downloading oauthlib-3.2.0-py3-none-any.whl (151 kB)\n",
      "\u001b[K     |████████████████████████████████| 151 kB 23.4 MB/s eta 0:00:01\n",
      "\u001b[?25hCollecting requests<3,>=2.27.0\n",
      "  Downloading requests-2.27.1-py2.py3-none-any.whl (63 kB)\n",
      "\u001b[K     |████████████████████████████████| 63 kB 5.6 MB/s  eta 0:00:01\n",
      "\u001b[?25hCollecting requests-oauthlib<2,>=1.2.0\n",
      "  Downloading requests_oauthlib-1.3.1-py2.py3-none-any.whl (23 kB)\n",
      "Requirement already satisfied: idna<4,>=2.5 in /Users/milindkumartandel/opt/anaconda3/lib/python3.9/site-packages (from requests<3,>=2.27.0->tweepy) (3.2)\n",
      "Requirement already satisfied: urllib3<1.27,>=1.21.1 in /Users/milindkumartandel/opt/anaconda3/lib/python3.9/site-packages (from requests<3,>=2.27.0->tweepy) (1.26.7)\n",
      "Requirement already satisfied: certifi>=2017.4.17 in /Users/milindkumartandel/opt/anaconda3/lib/python3.9/site-packages (from requests<3,>=2.27.0->tweepy) (2021.10.8)\n",
      "Requirement already satisfied: charset-normalizer~=2.0.0 in /Users/milindkumartandel/opt/anaconda3/lib/python3.9/site-packages (from requests<3,>=2.27.0->tweepy) (2.0.4)\n",
      "Installing collected packages: requests, oauthlib, requests-oauthlib, tweepy\n",
      "  Attempting uninstall: requests\n",
      "    Found existing installation: requests 2.26.0\n",
      "    Uninstalling requests-2.26.0:\n",
      "      Successfully uninstalled requests-2.26.0\n",
      "\u001b[31mERROR: pip's dependency resolver does not currently take into account all the packages that are installed. This behaviour is the source of the following dependency conflicts.\n",
      "conda-repo-cli 1.0.4 requires pathlib, which is not installed.\n",
      "anaconda-project 0.10.1 requires ruamel-yaml, which is not installed.\u001b[0m\n",
      "Successfully installed oauthlib-3.2.0 requests-2.27.1 requests-oauthlib-1.3.1 tweepy-4.9.0\n",
      "Note: you may need to restart the kernel to use updated packages.\n"
     ]
    }
   ],
   "source": [
    "pip install tweepy"
   ]
  },
  {
   "cell_type": "code",
   "execution_count": 119,
   "id": "66b12cf0-69f8-47e2-9883-4012c548fbf1",
   "metadata": {},
   "outputs": [],
   "source": [
    "# making connection to twitter using all keys and token\n",
    "import twitter\n",
    "api = twitter.Api(consumer_key='5w9ONEL6lpAUC9iR9WzUI9mzL',\n",
    "  consumer_secret='Fxqm5a6Ovc3Be7U0Y0kLAGW5HlGLbTcf09pjiAhQ3utUWHjQz3',\n",
    "    access_token_key='1527055997121986562-HiLxe2Hy56SgByU9fFuFduXe0snPjZ',\n",
    "    access_token_secret='ROexyJ7uq9xYGGm2Q7uu3WjJE4siQu38bZ005lym4lrqU')"
   ]
  },
  {
   "cell_type": "code",
   "execution_count": 120,
   "id": "0b1aaf6e-018a-4d76-a7dd-406ec7b15077",
   "metadata": {
    "tags": []
   },
   "outputs": [
    {
     "name": "stdout",
     "output_type": "stream",
     "text": [
      "{\"created_at\": \"Wed May 18 22:38:27 +0000 2022\", \"default_profile\": true, \"default_profile_image\": true, \"id\": 1527055997121986562, \"id_str\": \"1527055997121986562\", \"name\": \"Dipika\", \"profile_background_color\": \"F5F8FA\", \"profile_image_url\": \"http://abs.twimg.com/sticky/default_profile_images/default_profile_normal.png\", \"profile_image_url_https\": \"https://abs.twimg.com/sticky/default_profile_images/default_profile_normal.png\", \"profile_link_color\": \"1DA1F2\", \"profile_sidebar_border_color\": \"C0DEED\", \"profile_sidebar_fill_color\": \"DDEEF6\", \"profile_text_color\": \"333333\", \"profile_use_background_image\": true, \"screen_name\": \"Dipika16413016\", \"withheld_in_countries\": []}\n"
     ]
    }
   ],
   "source": [
    "# Lets verify credential.\n",
    "\n",
    "print(api.VerifyCredentials())"
   ]
  },
  {
   "cell_type": "code",
   "execution_count": 121,
   "id": "2441cab6-09bf-4e77-9418-a5ca298a20f4",
   "metadata": {},
   "outputs": [
    {
     "data": {
      "text/plain": [
       "[Status(ID=1527678181343260672, ScreenName=HTaubert19, Created=Fri May 20 15:50:35 +0000 2022, Text='RT @MarcusClapp: 🚨Commitment Alert 🚨    \\n\\nCongrats to Hawks OF @FogelstromH on his commitment to Bellevue University. The Bruins are gettin…'),\n",
       " Status(ID=1527655515882287104, ScreenName=kcmetrocanceled, Created=Fri May 20 14:20:32 +0000 2022, Text='Route 271 to University District Bellevue\\nDeparting Issaquah Transit Center - Bay 3 at:\\n6:59\\n\\n05/20/2022\\n#KCM_271'),\n",
       " Status(ID=1527630886077800449, ScreenName=rileymarie07, Created=Fri May 20 12:42:39 +0000 2022, Text='RT @MarcusClapp: 🚨Commitment Alert 🚨    \\n\\nCongrats to Hawks OF @FogelstromH on his commitment to Bellevue University. The Bruins are gettin…'),\n",
       " Status(ID=1527482013778845701, ScreenName=MODLO_, Created=Fri May 20 02:51:05 +0000 2022, Text='RT @MarcusClapp: 🚨Commitment Alert 🚨    \\n\\nCongrats to Hawks OF @FogelstromH on his commitment to Bellevue University. The Bruins are gettin…'),\n",
       " Status(ID=1527477047181836296, ScreenName=jayoung1705, Created=Fri May 20 02:31:21 +0000 2022, Text='RT @OWHsports: Bellevue won a winner-take-all game from Concordia Thursday afternoon to win their regional bracket at Bellevue East and wil…'),\n",
       " Status(ID=1527463229584298004, ScreenName=Bruin33Chris, Created=Fri May 20 01:36:27 +0000 2022, Text='RT @OWHsports: Bellevue won a winner-take-all game from Concordia Thursday afternoon to win their regional bracket at Bellevue East and wil…'),\n",
       " Status(ID=1527438121368969243, ScreenName=peterburtnett, Created=Thu May 19 23:56:41 +0000 2022, Text='RT @BellevueLeader: Bellevue won a winner-take-all game from Concordia Thursday afternoon to win their regional bracket at Bellevue East an…'),\n",
       " Status(ID=1527426141929324549, ScreenName=BellevueLeader, Created=Thu May 19 23:09:05 +0000 2022, Text='Bellevue won a winner-take-all game from Concordia Thursday afternoon to win their regional bracket at Bellevue Eas… https://t.co/kn0JXaSO0e'),\n",
       " Status(ID=1527424715668590592, ScreenName=OWHsports, Created=Thu May 19 23:03:25 +0000 2022, Text='Bellevue won a winner-take-all game from Concordia Thursday afternoon to win their regional bracket at Bellevue Eas… https://t.co/Nh2IFlATRR'),\n",
       " Status(ID=1527424714783735810, ScreenName=OWHnews, Created=Thu May 19 23:03:24 +0000 2022, Text='Bellevue won a winner-take-all game from Concordia Thursday afternoon to win their regional bracket at Bellevue Eas… https://t.co/7vJTGluF8f')]"
      ]
     },
     "execution_count": 121,
     "metadata": {},
     "output_type": "execute_result"
    }
   ],
   "source": [
    "# using GetSearch function to look for tweets or post related to Bellevue University, To limit my search I am using since and count.\n",
    "\n",
    "api.GetSearch(term='Bellevue University', since=2021-11-11, count=10)"
   ]
  },
  {
   "cell_type": "markdown",
   "id": "09190460-a3fc-4b8f-b80b-b5b89915d946",
   "metadata": {},
   "source": [
    "## Exercise 4 - Visualizations"
   ]
  },
  {
   "cell_type": "markdown",
   "id": "656424ce-c1be-475a-85a1-ba663f4f34a5",
   "metadata": {},
   "source": [
    "4. Using one of the datasets provided in Weeks 7 & 8, or a dataset of your own, choose 3 of the following visualizations to complete. You must submit via PDF along with your code. You are free to use Matplotlib, Seaborn or another package if you prefer.\n",
    "a. Line\n",
    "b. Scatter\n",
    "c. Bar\n",
    "d. Histogram\n",
    "e. Density Plot\n",
    "f. Pie Chart"
   ]
  },
  {
   "cell_type": "code",
   "execution_count": 89,
   "id": "1e6f6d38-a39c-4904-9543-63f4734175f0",
   "metadata": {},
   "outputs": [],
   "source": [
    "# Declaring all the libraries I want to use now.\n",
    "\n",
    "import numpy as np\n",
    "import pandas as pd\n",
    "import matplotlib.pyplot as plt"
   ]
  },
  {
   "cell_type": "code",
   "execution_count": 103,
   "id": "9bfc078f-730c-4e3e-857c-4cf7c3125ed3",
   "metadata": {},
   "outputs": [],
   "source": [
    "# For visualization exercise I am using the college data.\n",
    "df = pd.read_csv(\"recent-grads.csv\")"
   ]
  },
  {
   "cell_type": "code",
   "execution_count": 104,
   "id": "f2e8a74f-64bd-46a0-9061-3b36577f03e3",
   "metadata": {},
   "outputs": [
    {
     "data": {
      "text/html": [
       "<div>\n",
       "<style scoped>\n",
       "    .dataframe tbody tr th:only-of-type {\n",
       "        vertical-align: middle;\n",
       "    }\n",
       "\n",
       "    .dataframe tbody tr th {\n",
       "        vertical-align: top;\n",
       "    }\n",
       "\n",
       "    .dataframe thead th {\n",
       "        text-align: right;\n",
       "    }\n",
       "</style>\n",
       "<table border=\"1\" class=\"dataframe\">\n",
       "  <thead>\n",
       "    <tr style=\"text-align: right;\">\n",
       "      <th></th>\n",
       "      <th>Rank</th>\n",
       "      <th>Major_code</th>\n",
       "      <th>Major</th>\n",
       "      <th>Total</th>\n",
       "      <th>Men</th>\n",
       "      <th>Women</th>\n",
       "      <th>Major_category</th>\n",
       "      <th>ShareWomen</th>\n",
       "      <th>Sample_size</th>\n",
       "      <th>Employed</th>\n",
       "      <th>...</th>\n",
       "      <th>Part_time</th>\n",
       "      <th>Full_time_year_round</th>\n",
       "      <th>Unemployed</th>\n",
       "      <th>Unemployment_rate</th>\n",
       "      <th>Median</th>\n",
       "      <th>P25th</th>\n",
       "      <th>P75th</th>\n",
       "      <th>College_jobs</th>\n",
       "      <th>Non_college_jobs</th>\n",
       "      <th>Low_wage_jobs</th>\n",
       "    </tr>\n",
       "  </thead>\n",
       "  <tbody>\n",
       "    <tr>\n",
       "      <th>0</th>\n",
       "      <td>1</td>\n",
       "      <td>2419</td>\n",
       "      <td>PETROLEUM ENGINEERING</td>\n",
       "      <td>2339.0</td>\n",
       "      <td>2057.0</td>\n",
       "      <td>282.0</td>\n",
       "      <td>Engineering</td>\n",
       "      <td>0.120564</td>\n",
       "      <td>36</td>\n",
       "      <td>1976</td>\n",
       "      <td>...</td>\n",
       "      <td>270</td>\n",
       "      <td>1207</td>\n",
       "      <td>37</td>\n",
       "      <td>0.018381</td>\n",
       "      <td>110000</td>\n",
       "      <td>95000</td>\n",
       "      <td>125000</td>\n",
       "      <td>1534</td>\n",
       "      <td>364</td>\n",
       "      <td>193</td>\n",
       "    </tr>\n",
       "    <tr>\n",
       "      <th>1</th>\n",
       "      <td>2</td>\n",
       "      <td>2416</td>\n",
       "      <td>MINING AND MINERAL ENGINEERING</td>\n",
       "      <td>756.0</td>\n",
       "      <td>679.0</td>\n",
       "      <td>77.0</td>\n",
       "      <td>Engineering</td>\n",
       "      <td>0.101852</td>\n",
       "      <td>7</td>\n",
       "      <td>640</td>\n",
       "      <td>...</td>\n",
       "      <td>170</td>\n",
       "      <td>388</td>\n",
       "      <td>85</td>\n",
       "      <td>0.117241</td>\n",
       "      <td>75000</td>\n",
       "      <td>55000</td>\n",
       "      <td>90000</td>\n",
       "      <td>350</td>\n",
       "      <td>257</td>\n",
       "      <td>50</td>\n",
       "    </tr>\n",
       "    <tr>\n",
       "      <th>2</th>\n",
       "      <td>3</td>\n",
       "      <td>2415</td>\n",
       "      <td>METALLURGICAL ENGINEERING</td>\n",
       "      <td>856.0</td>\n",
       "      <td>725.0</td>\n",
       "      <td>131.0</td>\n",
       "      <td>Engineering</td>\n",
       "      <td>0.153037</td>\n",
       "      <td>3</td>\n",
       "      <td>648</td>\n",
       "      <td>...</td>\n",
       "      <td>133</td>\n",
       "      <td>340</td>\n",
       "      <td>16</td>\n",
       "      <td>0.024096</td>\n",
       "      <td>73000</td>\n",
       "      <td>50000</td>\n",
       "      <td>105000</td>\n",
       "      <td>456</td>\n",
       "      <td>176</td>\n",
       "      <td>0</td>\n",
       "    </tr>\n",
       "    <tr>\n",
       "      <th>3</th>\n",
       "      <td>4</td>\n",
       "      <td>2417</td>\n",
       "      <td>NAVAL ARCHITECTURE AND MARINE ENGINEERING</td>\n",
       "      <td>1258.0</td>\n",
       "      <td>1123.0</td>\n",
       "      <td>135.0</td>\n",
       "      <td>Engineering</td>\n",
       "      <td>0.107313</td>\n",
       "      <td>16</td>\n",
       "      <td>758</td>\n",
       "      <td>...</td>\n",
       "      <td>150</td>\n",
       "      <td>692</td>\n",
       "      <td>40</td>\n",
       "      <td>0.050125</td>\n",
       "      <td>70000</td>\n",
       "      <td>43000</td>\n",
       "      <td>80000</td>\n",
       "      <td>529</td>\n",
       "      <td>102</td>\n",
       "      <td>0</td>\n",
       "    </tr>\n",
       "    <tr>\n",
       "      <th>4</th>\n",
       "      <td>5</td>\n",
       "      <td>2405</td>\n",
       "      <td>CHEMICAL ENGINEERING</td>\n",
       "      <td>32260.0</td>\n",
       "      <td>21239.0</td>\n",
       "      <td>11021.0</td>\n",
       "      <td>Engineering</td>\n",
       "      <td>0.341631</td>\n",
       "      <td>289</td>\n",
       "      <td>25694</td>\n",
       "      <td>...</td>\n",
       "      <td>5180</td>\n",
       "      <td>16697</td>\n",
       "      <td>1672</td>\n",
       "      <td>0.061098</td>\n",
       "      <td>65000</td>\n",
       "      <td>50000</td>\n",
       "      <td>75000</td>\n",
       "      <td>18314</td>\n",
       "      <td>4440</td>\n",
       "      <td>972</td>\n",
       "    </tr>\n",
       "  </tbody>\n",
       "</table>\n",
       "<p>5 rows × 21 columns</p>\n",
       "</div>"
      ],
      "text/plain": [
       "   Rank  Major_code                                      Major    Total  \\\n",
       "0     1        2419                      PETROLEUM ENGINEERING   2339.0   \n",
       "1     2        2416             MINING AND MINERAL ENGINEERING    756.0   \n",
       "2     3        2415                  METALLURGICAL ENGINEERING    856.0   \n",
       "3     4        2417  NAVAL ARCHITECTURE AND MARINE ENGINEERING   1258.0   \n",
       "4     5        2405                       CHEMICAL ENGINEERING  32260.0   \n",
       "\n",
       "       Men    Women Major_category  ShareWomen  Sample_size  Employed  ...  \\\n",
       "0   2057.0    282.0    Engineering    0.120564           36      1976  ...   \n",
       "1    679.0     77.0    Engineering    0.101852            7       640  ...   \n",
       "2    725.0    131.0    Engineering    0.153037            3       648  ...   \n",
       "3   1123.0    135.0    Engineering    0.107313           16       758  ...   \n",
       "4  21239.0  11021.0    Engineering    0.341631          289     25694  ...   \n",
       "\n",
       "   Part_time  Full_time_year_round  Unemployed  Unemployment_rate  Median  \\\n",
       "0        270                  1207          37           0.018381  110000   \n",
       "1        170                   388          85           0.117241   75000   \n",
       "2        133                   340          16           0.024096   73000   \n",
       "3        150                   692          40           0.050125   70000   \n",
       "4       5180                 16697        1672           0.061098   65000   \n",
       "\n",
       "   P25th   P75th  College_jobs  Non_college_jobs  Low_wage_jobs  \n",
       "0  95000  125000          1534               364            193  \n",
       "1  55000   90000           350               257             50  \n",
       "2  50000  105000           456               176              0  \n",
       "3  43000   80000           529               102              0  \n",
       "4  50000   75000         18314              4440            972  \n",
       "\n",
       "[5 rows x 21 columns]"
      ]
     },
     "execution_count": 104,
     "metadata": {},
     "output_type": "execute_result"
    }
   ],
   "source": [
    "# Lets check the top 5 rows of the dataset to learn about the data.\n",
    "df.head()"
   ]
  },
  {
   "cell_type": "code",
   "execution_count": 165,
   "id": "ce76d4d5-0451-440e-ad0f-4bab45321eec",
   "metadata": {
    "tags": []
   },
   "outputs": [
    {
     "data": {
      "text/plain": [
       "(173, 21)"
      ]
     },
     "execution_count": 165,
     "metadata": {},
     "output_type": "execute_result"
    }
   ],
   "source": [
    "df.shape"
   ]
  },
  {
   "cell_type": "markdown",
   "id": "8adae8dc-4408-4411-88fc-0e3e35aebe9d",
   "metadata": {},
   "source": [
    "As we can see the college data we using to complete our analyzation has 173 rows and 21 columns.\n",
    "Also This dataset has different columns like major, men, women, category to define college course, employed to see if student is working or not. \n",
    "Along with college information, this dataset also include information about the employment."
   ]
  },
  {
   "cell_type": "markdown",
   "id": "010b9e85-6787-490e-a223-e2aa17ea4e38",
   "metadata": {},
   "source": [
    "### 1. Line Graph"
   ]
  },
  {
   "cell_type": "markdown",
   "id": "7c988aa3-64bf-4c4d-b528-6b8e37380938",
   "metadata": {},
   "source": [
    "For line graph we can simply use plot function.\n",
    "This function will show the line graph for every row in dataset.\n",
    "\n",
    "The x-axis values represent the rank of each institution, and the \"P25th\", \"Median\", and \"P75th\" values are plotted on the y-axis."
   ]
  },
  {
   "cell_type": "code",
   "execution_count": 167,
   "id": "af0af351-1673-4de4-bc91-e5cd5297eefa",
   "metadata": {},
   "outputs": [
    {
     "data": {
      "text/plain": [
       "<AxesSubplot:xlabel='Rank'>"
      ]
     },
     "execution_count": 167,
     "metadata": {},
     "output_type": "execute_result"
    },
    {
     "data": {
      "image/png": "[encoded data removed]",
      "text/plain": [
       "<Figure size 432x288 with 1 Axes>"
      ]
     },
     "metadata": {
      "needs_background": "light"
     },
     "output_type": "display_data"
    }
   ],
   "source": [
    "# Lets plot the rank column as x-axis and Median as an y-axis.\n",
    "#df.plot(x=\"Rank\", y=[\"P25th\", \"Median\", \"P75th\"])\n",
    "\n",
    "df.plot(x=\"Rank\", y=[\"Median\"])"
   ]
  },
  {
   "cell_type": "markdown",
   "id": "c3c9202d-8094-4e4a-9abb-7833bb2d26a1",
   "metadata": {},
   "source": [
    "As we can see from the above plot, that the median income decrease with decrease in rank. This also suggest that we can determine rank by using median income. Hence Rank and median columns are interrelated to each other."
   ]
  },
  {
   "cell_type": "markdown",
   "id": "72ab5055-d3cc-4e8e-809d-6572c8f84163",
   "metadata": {},
   "source": [
    "### 2. Histogram Graph"
   ]
  },
  {
   "cell_type": "markdown",
   "id": "1e64a3d4-f289-4c92-abfb-3899ff97d546",
   "metadata": {},
   "source": [
    "In order to see the distribution of values in a dataset we use histogram. Histogram is good to quickly identify if outliers are present in data or not."
   ]
  },
  {
   "cell_type": "code",
   "execution_count": 171,
   "id": "c62be464-36d6-406d-b91c-e6b15d29b4ca",
   "metadata": {},
   "outputs": [
    {
     "data": {
      "text/plain": [
       "pandas.core.series.Series"
      ]
     },
     "execution_count": 171,
     "metadata": {},
     "output_type": "execute_result"
    }
   ],
   "source": [
    "# Lets check the type of median column\n",
    "\n",
    "type(df[\"Median\"])"
   ]
  },
  {
   "cell_type": "code",
   "execution_count": 173,
   "id": "d5453654-c17e-499a-9518-d3015e14a913",
   "metadata": {
    "tags": []
   },
   "outputs": [
    {
     "data": {
      "text/plain": [
       "<AxesSubplot:ylabel='Frequency'>"
      ]
     },
     "execution_count": 173,
     "metadata": {},
     "output_type": "execute_result"
    },
    {
     "data": {
      "image/png": "[encoded data removed]",
      "text/plain": [
       "<Figure size 432x288 with 1 Axes>"
      ]
     },
     "metadata": {
      "needs_background": "light"
     },
     "output_type": "display_data"
    }
   ],
   "source": [
    "# Using plot function, this time defining the kind to get histogram.\n",
    "\n",
    "df[\"Median\"].plot(kind=\"hist\")"
   ]
  },
  {
   "cell_type": "markdown",
   "id": "1d9a3031-a4ae-47c4-b2a1-833522ad9cf1",
   "metadata": {},
   "source": [
    "The above histogram plot suggest that there is a peak in the middle of the graph. We can see outliers in data range above $110,000.\n",
    "Also the graph looks like symmetric bell shape."
   ]
  },
  {
   "cell_type": "markdown",
   "id": "91602bfa-74c9-4a05-b5b0-fc2725d072c0",
   "metadata": {},
   "source": [
    "### 3. Scatter plot"
   ]
  },
  {
   "cell_type": "markdown",
   "id": "0886c1c7-dab2-4433-a089-2b1c2f4d1622",
   "metadata": {},
   "source": [
    "Scatter plot is good choice to understand the relationship between different variables in a dataset."
   ]
  },
  {
   "cell_type": "code",
   "execution_count": 174,
   "id": "8d44ebbe-a03a-400b-8da9-f3cc6600e426",
   "metadata": {},
   "outputs": [
    {
     "data": {
      "text/plain": [
       "<AxesSubplot:xlabel='Median', ylabel='Unemployment_rate'>"
      ]
     },
     "execution_count": 174,
     "metadata": {},
     "output_type": "execute_result"
    },
    {
     "data": {
      "image/png": "[encoded data removed]",
      "text/plain": [
       "<Figure size 432x288 with 1 Axes>"
      ]
     },
     "metadata": {
      "needs_background": "light"
     },
     "output_type": "display_data"
    }
   ],
   "source": [
    "# Lets learn about the correlation between Median income and Unemployment_rate.\n",
    "# We can use plot function, this time we use kind as scatter.\n",
    "\n",
    "df.plot(x=\"Median\", y=\"Unemployment_rate\", kind=\"scatter\")"
   ]
  },
  {
   "cell_type": "markdown",
   "id": "c9519dd5-624c-4e4d-871d-7fd4d855aabb",
   "metadata": {},
   "source": [
    "Scatter graph is more visual, from above graph we can understand that there is not significant relationship between both Median income and Unemployment rate variables."
   ]
  },
  {
   "cell_type": "code",
   "execution_count": null,
   "id": "514fabed-828c-4f65-aeaf-adc9b816e9a3",
   "metadata": {},
   "outputs": [],
   "source": []
  }
 ],
 "metadata": {
  "kernelspec": {
   "display_name": "Python 3 (ipykernel)",
   "language": "python",
   "name": "python3"
  },
  "language_info": {
   "codemirror_mode": {
    "name": "ipython",
    "version": 3
   },
   "file_extension": ".py",
   "mimetype": "text/x-python",
   "name": "python",
   "nbconvert_exporter": "python",
   "pygments_lexer": "ipython3",
   "version": "3.9.7"
  }
 },
 "nbformat": 4,
 "nbformat_minor": 5
}
