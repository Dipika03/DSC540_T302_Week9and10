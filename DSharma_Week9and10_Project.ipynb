{
 "cells": [
  {
   "cell_type": "code",
   "execution_count": 1,
   "id": "38d66bbf-494c-4eea-84e8-bda92a4f4dd5",
   "metadata": {},
   "outputs": [],
   "source": [
    "# Name Dipika Sharma\n",
    "# DSC 540 T302 Data Preparation\n",
    "# Week 9 and 10\n",
    "# Project Milestone 4"
   ]
  },
  {
   "cell_type": "raw",
   "id": "9c4db4fa-ae90-4ff3-aa78-bdd63fdab993",
   "metadata": {},
   "source": [
    "Connecting to an API/Pulling in the Data and Cleaning/Formatting\n",
    "Perform at least 5 data transformation and/or cleansing steps to your API data. The below examples are not required - they are just potential transformations you could do. If your data doesn't work for these scenarios, complete different transformations. You can do the same transformation multiple times if you needed to clean your data. The goal is a clean dataset at the end of the milestone.\n",
    "Replace Headers\n",
    "Format data into a more readable format\n",
    "Identify outliers and bad data\n",
    "Find duplicates\n",
    "Fix casing or inconsistent values\n",
    "Conduct Fuzzy Matching"
   ]
  },
  {
   "cell_type": "code",
   "execution_count": 195,
   "id": "7417e663-68d7-4672-b13a-d77490b5a6db",
   "metadata": {},
   "outputs": [],
   "source": [
    "# Declaring all the libraries I want to use now.\n",
    "\n",
    "import matplotlib.pyplot as plt"
   ]
  },
  {
   "cell_type": "code",
   "execution_count": 196,
   "id": "3a382ca0-c8c5-4792-bf02-d420c2c5ffcb",
   "metadata": {},
   "outputs": [],
   "source": [
    "import urllib.request, urllib.parse, urllib.error\n",
    "import json"
   ]
  },
  {
   "cell_type": "code",
   "execution_count": 213,
   "id": "9a41bbef-028e-49c9-b60f-88115a7c2faa",
   "metadata": {},
   "outputs": [
    {
     "name": "stdout",
     "output_type": "stream",
     "text": [
      "50000\n",
      "https://data.chhs.ca.gov/api/3/action/datastore_search?offset=50000&limit=78000&resource_id=235174a5-f5b6-4759-8ab9-76191bfea324\n",
      "27616\n",
      "https://data.chhs.ca.gov/api/3/action/datastore_search?offset=100000&limit=78000&resource_id=235174a5-f5b6-4759-8ab9-76191bfea324\n",
      "0\n",
      "https://data.chhs.ca.gov/api/3/action/datastore_search?offset=150000&limit=78000&resource_id=235174a5-f5b6-4759-8ab9-76191bfea324\n"
     ]
    }
   ],
   "source": [
    "import numpy as np\n",
    "import pandas as pd\n",
    "import requests\n",
    "import json\n",
    "\n",
    "# To access the API response, we use the function call requests.get(url).json() \n",
    "# which not only gets the response from the API for the url but also gets the JSON format for it. \n",
    "\n",
    "channels_list = []\n",
    "#url = 'https://data.chhs.ca.gov/api/3/action/datastore_search?resource_id=235174a5-f5b6-4759-8ab9-76191bfea324&limit=5&q=title:jones' \n",
    "\n",
    "# Using two variable base and uri, base will remain the same where as uri will be the second part of the url which will change depending upon the amount of data.\n",
    "\n",
    "base = 'https://data.chhs.ca.gov'\n",
    "uri = '/api/3/action/datastore_search?resource_id=235174a5-f5b6-4759-8ab9-76191bfea324&limit=78000'\n",
    "url = base+uri\n",
    "# we can loop through a list of channels\n",
    "\n",
    "while  True:\n",
    "    #count = count - 1;  \n",
    "    JSONContent = requests.get(url).json()\n",
    "    if 'error' not in JSONContent:\n",
    "        content = json.dumps(JSONContent, indent = 4, sort_keys=True)  # using dump to dump data in content variable.\n",
    "        content_dic =json.loads(content);\n",
    "        uri = content_dic['result']['_links']['next'];\n",
    "        url = base+uri;\n",
    "        records = content_dic['result']['records'];\n",
    "        print(len(records));\n",
    "        \n",
    "        # loop for each row in records.\n",
    "        for var in records:\n",
    "            # store information in array channels_list using the append()\n",
    "            channels_list.append([var['_id'], \n",
    "                              var['as_of_date'], var['zip_code_tabulation_area'], var['local_health_jurisdiction'], var['county'],\n",
    "                            var['vaccine_equity_metric_quartile'], var['vem_source'], var['age12_plus_population'], var['persons_fully_vaccinated'], \n",
    "                             var['persons_partially_vaccinated'], var['percent_of_population_fully_vaccinated'], var['percent_of_population_partially_vaccinated'], \n",
    "                             var['percent_of_population_with_1_plus_dose'], var['redacted']])\n",
    "\n",
    "        print(url)\n",
    "        if len(records) == 0:\n",
    "            break;\n",
    "\n"
   ]
  },
  {
   "cell_type": "code",
   "execution_count": 198,
   "id": "ff18511b-bab5-43e9-a219-992a20094855",
   "metadata": {},
   "outputs": [],
   "source": [
    "# Get information and compile it into a dataset\n",
    "# using the pandas library to convert array into a pandas Dataframe using the method DataFrame()\n",
    "\n",
    "dataset = pd.DataFrame(channels_list)"
   ]
  },
  {
   "cell_type": "code",
   "execution_count": 199,
   "id": "7652bfcd-64c0-4b19-85e7-2dd6cfcaba9e",
   "metadata": {},
   "outputs": [
    {
     "data": {
      "text/html": [
       "<div>\n",
       "<style scoped>\n",
       "    .dataframe tbody tr th:only-of-type {\n",
       "        vertical-align: middle;\n",
       "    }\n",
       "\n",
       "    .dataframe tbody tr th {\n",
       "        vertical-align: top;\n",
       "    }\n",
       "\n",
       "    .dataframe thead th {\n",
       "        text-align: right;\n",
       "    }\n",
       "</style>\n",
       "<table border=\"1\" class=\"dataframe\">\n",
       "  <thead>\n",
       "    <tr style=\"text-align: right;\">\n",
       "      <th></th>\n",
       "      <th>0</th>\n",
       "      <th>1</th>\n",
       "      <th>2</th>\n",
       "      <th>3</th>\n",
       "      <th>4</th>\n",
       "      <th>5</th>\n",
       "      <th>6</th>\n",
       "      <th>7</th>\n",
       "      <th>8</th>\n",
       "      <th>9</th>\n",
       "      <th>10</th>\n",
       "      <th>11</th>\n",
       "      <th>12</th>\n",
       "      <th>13</th>\n",
       "    </tr>\n",
       "  </thead>\n",
       "  <tbody>\n",
       "    <tr>\n",
       "      <th>0</th>\n",
       "      <td>1</td>\n",
       "      <td>2021-01-05</td>\n",
       "      <td>91902</td>\n",
       "      <td>San Diego</td>\n",
       "      <td>San Diego</td>\n",
       "      <td>4.0</td>\n",
       "      <td>Healthy Places Index Score</td>\n",
       "      <td>16620.7</td>\n",
       "      <td>22.0</td>\n",
       "      <td>372.0</td>\n",
       "      <td>0.001324</td>\n",
       "      <td>0.022382</td>\n",
       "      <td>0.023706</td>\n",
       "      <td>No</td>\n",
       "    </tr>\n",
       "    <tr>\n",
       "      <th>1</th>\n",
       "      <td>2</td>\n",
       "      <td>2021-01-05</td>\n",
       "      <td>92410</td>\n",
       "      <td>San Bernardino</td>\n",
       "      <td>San Bernardino</td>\n",
       "      <td>1.0</td>\n",
       "      <td>Healthy Places Index Score</td>\n",
       "      <td>35012.3</td>\n",
       "      <td>None</td>\n",
       "      <td>None</td>\n",
       "      <td>None</td>\n",
       "      <td>None</td>\n",
       "      <td>None</td>\n",
       "      <td>Information redacted in accordance with CA sta...</td>\n",
       "    </tr>\n",
       "    <tr>\n",
       "      <th>2</th>\n",
       "      <td>3</td>\n",
       "      <td>2021-01-05</td>\n",
       "      <td>92285</td>\n",
       "      <td>San Bernardino</td>\n",
       "      <td>San Bernardino</td>\n",
       "      <td>1.0</td>\n",
       "      <td>Healthy Places Index Score</td>\n",
       "      <td>2317.1</td>\n",
       "      <td>None</td>\n",
       "      <td>None</td>\n",
       "      <td>None</td>\n",
       "      <td>None</td>\n",
       "      <td>None</td>\n",
       "      <td>Information redacted in accordance with CA sta...</td>\n",
       "    </tr>\n",
       "    <tr>\n",
       "      <th>3</th>\n",
       "      <td>4</td>\n",
       "      <td>2021-01-05</td>\n",
       "      <td>95621</td>\n",
       "      <td>Sacramento</td>\n",
       "      <td>Sacramento</td>\n",
       "      <td>2.0</td>\n",
       "      <td>Healthy Places Index Score</td>\n",
       "      <td>36059.1</td>\n",
       "      <td>12.0</td>\n",
       "      <td>412.0</td>\n",
       "      <td>0.000333</td>\n",
       "      <td>0.011426</td>\n",
       "      <td>0.011759</td>\n",
       "      <td>No</td>\n",
       "    </tr>\n",
       "    <tr>\n",
       "      <th>4</th>\n",
       "      <td>5</td>\n",
       "      <td>2021-01-05</td>\n",
       "      <td>92656</td>\n",
       "      <td>Orange</td>\n",
       "      <td>Orange</td>\n",
       "      <td>4.0</td>\n",
       "      <td>Healthy Places Index Score</td>\n",
       "      <td>43721.9</td>\n",
       "      <td>None</td>\n",
       "      <td>None</td>\n",
       "      <td>None</td>\n",
       "      <td>None</td>\n",
       "      <td>None</td>\n",
       "      <td>Information redacted in accordance with CA sta...</td>\n",
       "    </tr>\n",
       "  </tbody>\n",
       "</table>\n",
       "</div>"
      ],
      "text/plain": [
       "   0           1      2               3               4    5   \\\n",
       "0   1  2021-01-05  91902       San Diego       San Diego  4.0   \n",
       "1   2  2021-01-05  92410  San Bernardino  San Bernardino  1.0   \n",
       "2   3  2021-01-05  92285  San Bernardino  San Bernardino  1.0   \n",
       "3   4  2021-01-05  95621      Sacramento      Sacramento  2.0   \n",
       "4   5  2021-01-05  92656          Orange          Orange  4.0   \n",
       "\n",
       "                           6        7     8      9         10        11  \\\n",
       "0  Healthy Places Index Score  16620.7  22.0  372.0  0.001324  0.022382   \n",
       "1  Healthy Places Index Score  35012.3  None   None      None      None   \n",
       "2  Healthy Places Index Score   2317.1  None   None      None      None   \n",
       "3  Healthy Places Index Score  36059.1  12.0  412.0  0.000333  0.011426   \n",
       "4  Healthy Places Index Score  43721.9  None   None      None      None   \n",
       "\n",
       "         12                                                 13  \n",
       "0  0.023706                                                 No  \n",
       "1      None  Information redacted in accordance with CA sta...  \n",
       "2      None  Information redacted in accordance with CA sta...  \n",
       "3  0.011759                                                 No  \n",
       "4      None  Information redacted in accordance with CA sta...  "
      ]
     },
     "execution_count": 199,
     "metadata": {},
     "output_type": "execute_result"
    }
   ],
   "source": [
    "dataset.head()"
   ]
  },
  {
   "cell_type": "code",
   "execution_count": 200,
   "id": "3eb085b2-cf79-41e3-973b-69d43a883e75",
   "metadata": {},
   "outputs": [
    {
     "data": {
      "text/plain": [
       "(77616, 14)"
      ]
     },
     "execution_count": 200,
     "metadata": {},
     "output_type": "execute_result"
    }
   ],
   "source": [
    "# Dataframe is created with 14 columns and 77,616 rows.\n",
    "\n",
    "dataset.shape"
   ]
  },
  {
   "cell_type": "markdown",
   "id": "e2c2b313-2cbc-42c2-9aba-f0a6bebd9320",
   "metadata": {},
   "source": [
    "# Step 1 - Renaming of columns in dataframe"
   ]
  },
  {
   "cell_type": "markdown",
   "id": "081b8255-4732-45af-a387-acb332e7ebae",
   "metadata": {},
   "source": [
    "As we can see above all the columns of dataframe is number which do not tell anything about the data. So lets change the columns name to make more sense."
   ]
  },
  {
   "cell_type": "code",
   "execution_count": 201,
   "id": "81c4060e-675a-4a99-892d-b8f8444f2e08",
   "metadata": {},
   "outputs": [],
   "source": [
    "# Renaming columns name.\n",
    "\n",
    "dataset.columns = ['id', 'as_of_date', 'zip_code_tabulation_area', 'local_health_jurisdiction', 'county', 'vaccine_equity_metric_quartile', 'vem_source', 'age12_plus_population', \n",
    " 'persons_fully_vaccinated', 'persons_partially_vaccinated', 'percent_of_population_fully_vaccinated', 'percent_of_population_partially_vaccinated', 'percent_of_population_with_1_plus_dose', 'redacted']\n"
   ]
  },
  {
   "cell_type": "code",
   "execution_count": 202,
   "id": "e30a5e35-d5d8-428c-8f22-42b4921293d4",
   "metadata": {},
   "outputs": [],
   "source": [
    "#dataset.dropna(axis = 0, how = 'any', inplace = True)\n",
    "#dataset.index = pd.RangeIndex(len(dataset.index))"
   ]
  },
  {
   "cell_type": "code",
   "execution_count": 204,
   "id": "041d554a-2a4a-451e-8956-09cb3e4ec5ad",
   "metadata": {},
   "outputs": [
    {
     "data": {
      "text/html": [
       "<div>\n",
       "<style scoped>\n",
       "    .dataframe tbody tr th:only-of-type {\n",
       "        vertical-align: middle;\n",
       "    }\n",
       "\n",
       "    .dataframe tbody tr th {\n",
       "        vertical-align: top;\n",
       "    }\n",
       "\n",
       "    .dataframe thead th {\n",
       "        text-align: right;\n",
       "    }\n",
       "</style>\n",
       "<table border=\"1\" class=\"dataframe\">\n",
       "  <thead>\n",
       "    <tr style=\"text-align: right;\">\n",
       "      <th></th>\n",
       "      <th>id</th>\n",
       "      <th>as_of_date</th>\n",
       "      <th>zip_code_tabulation_area</th>\n",
       "      <th>local_health_jurisdiction</th>\n",
       "      <th>county</th>\n",
       "      <th>vaccine_equity_metric_quartile</th>\n",
       "      <th>vem_source</th>\n",
       "      <th>age12_plus_population</th>\n",
       "      <th>persons_fully_vaccinated</th>\n",
       "      <th>persons_partially_vaccinated</th>\n",
       "      <th>percent_of_population_fully_vaccinated</th>\n",
       "      <th>percent_of_population_partially_vaccinated</th>\n",
       "      <th>percent_of_population_with_1_plus_dose</th>\n",
       "      <th>redacted</th>\n",
       "    </tr>\n",
       "  </thead>\n",
       "  <tbody>\n",
       "    <tr>\n",
       "      <th>0</th>\n",
       "      <td>1</td>\n",
       "      <td>2021-01-05</td>\n",
       "      <td>91902</td>\n",
       "      <td>San Diego</td>\n",
       "      <td>San Diego</td>\n",
       "      <td>4.0</td>\n",
       "      <td>Healthy Places Index Score</td>\n",
       "      <td>16620.7</td>\n",
       "      <td>22.0</td>\n",
       "      <td>372.0</td>\n",
       "      <td>0.001324</td>\n",
       "      <td>0.022382</td>\n",
       "      <td>0.023706</td>\n",
       "      <td>No</td>\n",
       "    </tr>\n",
       "    <tr>\n",
       "      <th>1</th>\n",
       "      <td>2</td>\n",
       "      <td>2021-01-05</td>\n",
       "      <td>92410</td>\n",
       "      <td>San Bernardino</td>\n",
       "      <td>San Bernardino</td>\n",
       "      <td>1.0</td>\n",
       "      <td>Healthy Places Index Score</td>\n",
       "      <td>35012.3</td>\n",
       "      <td>None</td>\n",
       "      <td>None</td>\n",
       "      <td>None</td>\n",
       "      <td>None</td>\n",
       "      <td>None</td>\n",
       "      <td>Information redacted in accordance with CA sta...</td>\n",
       "    </tr>\n",
       "    <tr>\n",
       "      <th>2</th>\n",
       "      <td>3</td>\n",
       "      <td>2021-01-05</td>\n",
       "      <td>92285</td>\n",
       "      <td>San Bernardino</td>\n",
       "      <td>San Bernardino</td>\n",
       "      <td>1.0</td>\n",
       "      <td>Healthy Places Index Score</td>\n",
       "      <td>2317.1</td>\n",
       "      <td>None</td>\n",
       "      <td>None</td>\n",
       "      <td>None</td>\n",
       "      <td>None</td>\n",
       "      <td>None</td>\n",
       "      <td>Information redacted in accordance with CA sta...</td>\n",
       "    </tr>\n",
       "    <tr>\n",
       "      <th>3</th>\n",
       "      <td>4</td>\n",
       "      <td>2021-01-05</td>\n",
       "      <td>95621</td>\n",
       "      <td>Sacramento</td>\n",
       "      <td>Sacramento</td>\n",
       "      <td>2.0</td>\n",
       "      <td>Healthy Places Index Score</td>\n",
       "      <td>36059.1</td>\n",
       "      <td>12.0</td>\n",
       "      <td>412.0</td>\n",
       "      <td>0.000333</td>\n",
       "      <td>0.011426</td>\n",
       "      <td>0.011759</td>\n",
       "      <td>No</td>\n",
       "    </tr>\n",
       "    <tr>\n",
       "      <th>4</th>\n",
       "      <td>5</td>\n",
       "      <td>2021-01-05</td>\n",
       "      <td>92656</td>\n",
       "      <td>Orange</td>\n",
       "      <td>Orange</td>\n",
       "      <td>4.0</td>\n",
       "      <td>Healthy Places Index Score</td>\n",
       "      <td>43721.9</td>\n",
       "      <td>None</td>\n",
       "      <td>None</td>\n",
       "      <td>None</td>\n",
       "      <td>None</td>\n",
       "      <td>None</td>\n",
       "      <td>Information redacted in accordance with CA sta...</td>\n",
       "    </tr>\n",
       "  </tbody>\n",
       "</table>\n",
       "</div>"
      ],
      "text/plain": [
       "   id  as_of_date zip_code_tabulation_area local_health_jurisdiction  \\\n",
       "0   1  2021-01-05                    91902                 San Diego   \n",
       "1   2  2021-01-05                    92410            San Bernardino   \n",
       "2   3  2021-01-05                    92285            San Bernardino   \n",
       "3   4  2021-01-05                    95621                Sacramento   \n",
       "4   5  2021-01-05                    92656                    Orange   \n",
       "\n",
       "           county vaccine_equity_metric_quartile                  vem_source  \\\n",
       "0       San Diego                            4.0  Healthy Places Index Score   \n",
       "1  San Bernardino                            1.0  Healthy Places Index Score   \n",
       "2  San Bernardino                            1.0  Healthy Places Index Score   \n",
       "3      Sacramento                            2.0  Healthy Places Index Score   \n",
       "4          Orange                            4.0  Healthy Places Index Score   \n",
       "\n",
       "  age12_plus_population persons_fully_vaccinated persons_partially_vaccinated  \\\n",
       "0               16620.7                     22.0                        372.0   \n",
       "1               35012.3                     None                         None   \n",
       "2                2317.1                     None                         None   \n",
       "3               36059.1                     12.0                        412.0   \n",
       "4               43721.9                     None                         None   \n",
       "\n",
       "  percent_of_population_fully_vaccinated  \\\n",
       "0                               0.001324   \n",
       "1                                   None   \n",
       "2                                   None   \n",
       "3                               0.000333   \n",
       "4                                   None   \n",
       "\n",
       "  percent_of_population_partially_vaccinated  \\\n",
       "0                                   0.022382   \n",
       "1                                       None   \n",
       "2                                       None   \n",
       "3                                   0.011426   \n",
       "4                                       None   \n",
       "\n",
       "  percent_of_population_with_1_plus_dose  \\\n",
       "0                               0.023706   \n",
       "1                                   None   \n",
       "2                                   None   \n",
       "3                               0.011759   \n",
       "4                                   None   \n",
       "\n",
       "                                            redacted  \n",
       "0                                                 No  \n",
       "1  Information redacted in accordance with CA sta...  \n",
       "2  Information redacted in accordance with CA sta...  \n",
       "3                                                 No  \n",
       "4  Information redacted in accordance with CA sta...  "
      ]
     },
     "execution_count": 204,
     "metadata": {},
     "output_type": "execute_result"
    }
   ],
   "source": [
    "# Data looks more clean and make sense after renaming them.\n",
    "dataset.head()"
   ]
  },
  {
   "cell_type": "markdown",
   "id": "60297731-8cd7-4be6-8096-ce3504d662d1",
   "metadata": {},
   "source": [
    "# Step 2 - Looking for NULL values in dataframe"
   ]
  },
  {
   "cell_type": "code",
   "execution_count": 205,
   "id": "056eb491-cd8b-4d51-93db-b5d06351921c",
   "metadata": {},
   "outputs": [
    {
     "data": {
      "text/plain": [
       "id                                               0\n",
       "as_of_date                                       0\n",
       "zip_code_tabulation_area                         0\n",
       "local_health_jurisdiction                      220\n",
       "county                                         220\n",
       "vaccine_equity_metric_quartile                3828\n",
       "vem_source                                       0\n",
       "age12_plus_population                            0\n",
       "persons_fully_vaccinated                      8004\n",
       "persons_partially_vaccinated                  8004\n",
       "percent_of_population_fully_vaccinated        8004\n",
       "percent_of_population_partially_vaccinated    8004\n",
       "percent_of_population_with_1_plus_dose        8004\n",
       "redacted                                         0\n",
       "dtype: int64"
      ]
     },
     "execution_count": 205,
     "metadata": {},
     "output_type": "execute_result"
    }
   ],
   "source": [
    "# checking the dataframe for null values, below function will count the number of NULL values for each column.\n",
    "dataset.isnull().sum()"
   ]
  },
  {
   "cell_type": "markdown",
   "id": "cc3007ce-f26c-4e71-a6ec-105cfabdae4d",
   "metadata": {},
   "source": [
    "As we can see there are multiple columns which has NULL values, At this point of time i do not want to remove NULL values from dataset as it will be too early to make any decision. But it is good to see and have knowledge about your colums data."
   ]
  },
  {
   "cell_type": "markdown",
   "id": "cd5eb807-2337-4c7f-aa0e-1cef59a82717",
   "metadata": {},
   "source": [
    "# Step 3 - Removing the leading and ending whitespace"
   ]
  },
  {
   "cell_type": "code",
   "execution_count": 187,
   "id": "60093ad1-bd69-4049-94b0-f5d29781a12d",
   "metadata": {},
   "outputs": [],
   "source": [
    "# using strip fucntion to remove leading and ending whitespace.\n",
    "\n",
    "def strip_whitespace(s):\n",
    "    return s.strip()  # using strip fucntion to remove leading and ending whitespace."
   ]
  },
  {
   "cell_type": "code",
   "execution_count": 206,
   "id": "aeb5cf81-14a0-4ba2-983a-05978d768163",
   "metadata": {},
   "outputs": [],
   "source": [
    "# Lets strip the whitespace if any in zipcode column of the dataset\n",
    "\n",
    "dataset['zipcode_stripped']=dataset['zip_code_tabulation_area'].apply(strip_whitespace)\n",
    "dataset['zip_code_tabulation_area']=dataset['zipcode_stripped']\n",
    "dataset.drop(labels=['zipcode_stripped'],axis=1,inplace=True)"
   ]
  },
  {
   "cell_type": "markdown",
   "id": "81f11d81-ea22-487b-91d2-8c87ef60baa0",
   "metadata": {},
   "source": [
    "# Step 4 - Check for duplicates"
   ]
  },
  {
   "cell_type": "code",
   "execution_count": 207,
   "id": "4838a8c2-5cb9-4381-a49d-66549c96e50c",
   "metadata": {
    "tags": []
   },
   "outputs": [
    {
     "name": "stdout",
     "output_type": "stream",
     "text": [
      "Is column ZIPCODE is duplicated? - True\n"
     ]
    }
   ],
   "source": [
    "# Lets make sure we do not have any duplicates for columns Zipcode in our dataset\n",
    "\n",
    "print(\"Is column ZIPCODE is duplicated? - {}\".format(any(dataset.zip_code_tabulation_area.duplicated())))"
   ]
  },
  {
   "cell_type": "markdown",
   "id": "eacc4b75-426f-4bf4-a691-58ebd755ef6e",
   "metadata": {},
   "source": [
    "As we know our dataset has Covid information of California state and it is expected to have multiple covid cases in one zipcode so we are expecting to have same zipcode multiple times in dataset."
   ]
  },
  {
   "cell_type": "markdown",
   "id": "cbf13592-7e56-4c4d-ab16-7c9e88f4a43f",
   "metadata": {},
   "source": [
    "# Step 5 - Check for NaN values"
   ]
  },
  {
   "cell_type": "code",
   "execution_count": 190,
   "id": "08019d13-d14a-4926-9c9c-ff257c827a83",
   "metadata": {},
   "outputs": [
    {
     "name": "stdout",
     "output_type": "stream",
     "text": [
      "Is the column ZIPCODE contains NaN values? - False \n",
      "Is the column county contains NaN values? - True \n",
      "Is the column as_of_date contains NaN values? - False \n"
     ]
    }
   ],
   "source": [
    "# Lets check few columns of the dataset for NaN Values\n",
    "\n",
    "print(\"Is the column ZIPCODE contains NaN values? - %r \" % dataset.zip_code_tabulation_area.isnull().values.any())\n",
    "print(\"Is the column county contains NaN values? - %r \" % dataset.county.isnull().values.any())\n",
    "print(\"Is the column as_of_date contains NaN values? - %r \" % dataset.as_of_date.isnull().values.any())\n",
    "\n"
   ]
  },
  {
   "cell_type": "markdown",
   "id": "5608bd2b-74a9-43eb-ab6b-bbb1f3f28e73",
   "metadata": {},
   "source": [
    "As we can see above that the column zipcode doesnot have any NaN values then it is good. For project we will be looking all california zipcode to see relationship between covid and vaccination so if in case we missing zipcode information in our dataset then we either need to remove that rows or need to look for another dataset with no NaN values."
   ]
  },
  {
   "cell_type": "markdown",
   "id": "dad6a0f9-cf15-4e7b-bf38-be1b5b2ade32",
   "metadata": {},
   "source": [
    "The good thing is that we do not have any NaN values for zipcode so we will fine and we can look for answers to our questions using the current covid vaccination dataset."
   ]
  },
  {
   "cell_type": "markdown",
   "id": "a0ba901e-e5c9-4ca9-a8e1-63ebf5fd57c4",
   "metadata": {},
   "source": [
    "# Step 6 - Replace values"
   ]
  },
  {
   "cell_type": "markdown",
   "id": "6ed7954f-8288-406a-941d-8fb11a1baf28",
   "metadata": {},
   "source": [
    "As we can see we have so many \"None\" values for our numeric columns and it might create problem for us while performaing any calculation on it.\n",
    "So it will be nice to replcae \"None\" values with 0 for all numerica columns."
   ]
  },
  {
   "cell_type": "code",
   "execution_count": 216,
   "id": "a9acaf7e-ccb6-4411-9a25-8bb6e3e42f10",
   "metadata": {},
   "outputs": [],
   "source": [
    "dataset = dataset.replace(np.nan, 0)"
   ]
  },
  {
   "cell_type": "code",
   "execution_count": 217,
   "id": "0a2aae9a-89f2-4d5b-91f3-4fe59726a970",
   "metadata": {},
   "outputs": [
    {
     "data": {
      "text/html": [
       "<div>\n",
       "<style scoped>\n",
       "    .dataframe tbody tr th:only-of-type {\n",
       "        vertical-align: middle;\n",
       "    }\n",
       "\n",
       "    .dataframe tbody tr th {\n",
       "        vertical-align: top;\n",
       "    }\n",
       "\n",
       "    .dataframe thead th {\n",
       "        text-align: right;\n",
       "    }\n",
       "</style>\n",
       "<table border=\"1\" class=\"dataframe\">\n",
       "  <thead>\n",
       "    <tr style=\"text-align: right;\">\n",
       "      <th></th>\n",
       "      <th>id</th>\n",
       "      <th>as_of_date</th>\n",
       "      <th>zip_code_tabulation_area</th>\n",
       "      <th>local_health_jurisdiction</th>\n",
       "      <th>county</th>\n",
       "      <th>vaccine_equity_metric_quartile</th>\n",
       "      <th>vem_source</th>\n",
       "      <th>age12_plus_population</th>\n",
       "      <th>persons_fully_vaccinated</th>\n",
       "      <th>persons_partially_vaccinated</th>\n",
       "      <th>percent_of_population_fully_vaccinated</th>\n",
       "      <th>percent_of_population_partially_vaccinated</th>\n",
       "      <th>percent_of_population_with_1_plus_dose</th>\n",
       "      <th>redacted</th>\n",
       "    </tr>\n",
       "  </thead>\n",
       "  <tbody>\n",
       "    <tr>\n",
       "      <th>0</th>\n",
       "      <td>1</td>\n",
       "      <td>2021-01-05</td>\n",
       "      <td>91902</td>\n",
       "      <td>San Diego</td>\n",
       "      <td>San Diego</td>\n",
       "      <td>4.0</td>\n",
       "      <td>Healthy Places Index Score</td>\n",
       "      <td>16620.7</td>\n",
       "      <td>22.0</td>\n",
       "      <td>372.0</td>\n",
       "      <td>0.001324</td>\n",
       "      <td>0.022382</td>\n",
       "      <td>0.023706</td>\n",
       "      <td>No</td>\n",
       "    </tr>\n",
       "    <tr>\n",
       "      <th>1</th>\n",
       "      <td>2</td>\n",
       "      <td>2021-01-05</td>\n",
       "      <td>92410</td>\n",
       "      <td>San Bernardino</td>\n",
       "      <td>San Bernardino</td>\n",
       "      <td>1.0</td>\n",
       "      <td>Healthy Places Index Score</td>\n",
       "      <td>35012.3</td>\n",
       "      <td>0</td>\n",
       "      <td>0</td>\n",
       "      <td>0</td>\n",
       "      <td>0</td>\n",
       "      <td>0</td>\n",
       "      <td>Information redacted in accordance with CA sta...</td>\n",
       "    </tr>\n",
       "    <tr>\n",
       "      <th>2</th>\n",
       "      <td>3</td>\n",
       "      <td>2021-01-05</td>\n",
       "      <td>92285</td>\n",
       "      <td>San Bernardino</td>\n",
       "      <td>San Bernardino</td>\n",
       "      <td>1.0</td>\n",
       "      <td>Healthy Places Index Score</td>\n",
       "      <td>2317.1</td>\n",
       "      <td>0</td>\n",
       "      <td>0</td>\n",
       "      <td>0</td>\n",
       "      <td>0</td>\n",
       "      <td>0</td>\n",
       "      <td>Information redacted in accordance with CA sta...</td>\n",
       "    </tr>\n",
       "    <tr>\n",
       "      <th>3</th>\n",
       "      <td>4</td>\n",
       "      <td>2021-01-05</td>\n",
       "      <td>95621</td>\n",
       "      <td>Sacramento</td>\n",
       "      <td>Sacramento</td>\n",
       "      <td>2.0</td>\n",
       "      <td>Healthy Places Index Score</td>\n",
       "      <td>36059.1</td>\n",
       "      <td>12.0</td>\n",
       "      <td>412.0</td>\n",
       "      <td>0.000333</td>\n",
       "      <td>0.011426</td>\n",
       "      <td>0.011759</td>\n",
       "      <td>No</td>\n",
       "    </tr>\n",
       "    <tr>\n",
       "      <th>4</th>\n",
       "      <td>5</td>\n",
       "      <td>2021-01-05</td>\n",
       "      <td>92656</td>\n",
       "      <td>Orange</td>\n",
       "      <td>Orange</td>\n",
       "      <td>4.0</td>\n",
       "      <td>Healthy Places Index Score</td>\n",
       "      <td>43721.9</td>\n",
       "      <td>0</td>\n",
       "      <td>0</td>\n",
       "      <td>0</td>\n",
       "      <td>0</td>\n",
       "      <td>0</td>\n",
       "      <td>Information redacted in accordance with CA sta...</td>\n",
       "    </tr>\n",
       "  </tbody>\n",
       "</table>\n",
       "</div>"
      ],
      "text/plain": [
       "   id  as_of_date zip_code_tabulation_area local_health_jurisdiction  \\\n",
       "0   1  2021-01-05                    91902                 San Diego   \n",
       "1   2  2021-01-05                    92410            San Bernardino   \n",
       "2   3  2021-01-05                    92285            San Bernardino   \n",
       "3   4  2021-01-05                    95621                Sacramento   \n",
       "4   5  2021-01-05                    92656                    Orange   \n",
       "\n",
       "           county vaccine_equity_metric_quartile                  vem_source  \\\n",
       "0       San Diego                            4.0  Healthy Places Index Score   \n",
       "1  San Bernardino                            1.0  Healthy Places Index Score   \n",
       "2  San Bernardino                            1.0  Healthy Places Index Score   \n",
       "3      Sacramento                            2.0  Healthy Places Index Score   \n",
       "4          Orange                            4.0  Healthy Places Index Score   \n",
       "\n",
       "  age12_plus_population persons_fully_vaccinated persons_partially_vaccinated  \\\n",
       "0               16620.7                     22.0                        372.0   \n",
       "1               35012.3                        0                            0   \n",
       "2                2317.1                        0                            0   \n",
       "3               36059.1                     12.0                        412.0   \n",
       "4               43721.9                        0                            0   \n",
       "\n",
       "  percent_of_population_fully_vaccinated  \\\n",
       "0                               0.001324   \n",
       "1                                      0   \n",
       "2                                      0   \n",
       "3                               0.000333   \n",
       "4                                      0   \n",
       "\n",
       "  percent_of_population_partially_vaccinated  \\\n",
       "0                                   0.022382   \n",
       "1                                          0   \n",
       "2                                          0   \n",
       "3                                   0.011426   \n",
       "4                                          0   \n",
       "\n",
       "  percent_of_population_with_1_plus_dose  \\\n",
       "0                               0.023706   \n",
       "1                                      0   \n",
       "2                                      0   \n",
       "3                               0.011759   \n",
       "4                                      0   \n",
       "\n",
       "                                            redacted  \n",
       "0                                                 No  \n",
       "1  Information redacted in accordance with CA sta...  \n",
       "2  Information redacted in accordance with CA sta...  \n",
       "3                                                 No  \n",
       "4  Information redacted in accordance with CA sta...  "
      ]
     },
     "execution_count": 217,
     "metadata": {},
     "output_type": "execute_result"
    }
   ],
   "source": [
    "dataset.head()"
   ]
  },
  {
   "cell_type": "markdown",
   "id": "a4818f87-f76e-48f3-8eb3-376239880c4b",
   "metadata": {},
   "source": [
    "So now we can see 0 in lcae of None in our dataset."
   ]
  },
  {
   "cell_type": "markdown",
   "id": "adcb2390-e6c3-4329-9db1-ce5d0e949dee",
   "metadata": {},
   "source": [
    "# Step 7 - Convert date column as_of_date to date type"
   ]
  },
  {
   "cell_type": "code",
   "execution_count": 218,
   "id": "9c01240b-6d4e-4dd5-abe6-c9a594b89ca3",
   "metadata": {},
   "outputs": [],
   "source": [
    "from datetime import datetime"
   ]
  },
  {
   "cell_type": "code",
   "execution_count": 221,
   "id": "7e534dee-7973-47eb-bcc2-1d6817386e14",
   "metadata": {},
   "outputs": [
    {
     "name": "stdout",
     "output_type": "stream",
     "text": [
      "0        2021-01-05\n",
      "1        2021-01-05\n",
      "2        2021-01-05\n",
      "3        2021-01-05\n",
      "4        2021-01-05\n",
      "            ...    \n",
      "77611    2021-11-02\n",
      "77612    2021-11-02\n",
      "77613    2021-11-02\n",
      "77614    2021-11-02\n",
      "77615    2021-11-02\n",
      "Name: as_of_date, Length: 77616, dtype: object\n"
     ]
    }
   ],
   "source": [
    "# lets check the datatype for as_of_date column of our dataset.\n",
    "\n",
    "print (dataset.as_of_date)"
   ]
  },
  {
   "cell_type": "markdown",
   "id": "3c72d17c-2713-496e-9fcf-5ee34f14dfa6",
   "metadata": {},
   "source": [
    "As we can see as_of_date is string type so we can convert them into date type. Since It would easier for us to process the date column."
   ]
  },
  {
   "cell_type": "code",
   "execution_count": 223,
   "id": "e80623ad-a82f-4eeb-bc31-b7a51f4805ee",
   "metadata": {},
   "outputs": [],
   "source": [
    "# Using to_datetime() & astype() to convert the as_of_date column to date type.\n",
    "\n",
    "dataset['as_of_date']=pd.to_datetime(dataset['as_of_date'].astype(str), format='%Y/%m/%d')"
   ]
  },
  {
   "cell_type": "code",
   "execution_count": 224,
   "id": "7df5b2c5-e2c6-465f-8282-2eaadab56a39",
   "metadata": {},
   "outputs": [
    {
     "name": "stdout",
     "output_type": "stream",
     "text": [
      "0       2021-01-05\n",
      "1       2021-01-05\n",
      "2       2021-01-05\n",
      "3       2021-01-05\n",
      "4       2021-01-05\n",
      "           ...    \n",
      "77611   2021-11-02\n",
      "77612   2021-11-02\n",
      "77613   2021-11-02\n",
      "77614   2021-11-02\n",
      "77615   2021-11-02\n",
      "Name: as_of_date, Length: 77616, dtype: datetime64[ns]\n"
     ]
    }
   ],
   "source": [
    "# lets check the datatype for as_of_date column of our dataset.\n",
    "\n",
    "print (dataset.as_of_date)"
   ]
  },
  {
   "cell_type": "markdown",
   "id": "fb7c641c-5a87-41ab-b0aa-e11fdf67c71f",
   "metadata": {},
   "source": [
    "Now the as_of_date column is datetime type."
   ]
  },
  {
   "cell_type": "code",
   "execution_count": null,
   "id": "816ed23b-e72e-42b8-a05a-390eaa5c8f4f",
   "metadata": {},
   "outputs": [],
   "source": []
  }
 ],
 "metadata": {
  "kernelspec": {
   "display_name": "Python 3 (ipykernel)",
   "language": "python",
   "name": "python3"
  },
  "language_info": {
   "codemirror_mode": {
    "name": "ipython",
    "version": 3
   },
   "file_extension": ".py",
   "mimetype": "text/x-python",
   "name": "python",
   "nbconvert_exporter": "python",
   "pygments_lexer": "ipython3",
   "version": "3.9.7"
  }
 },
 "nbformat": 4,
 "nbformat_minor": 5
}
